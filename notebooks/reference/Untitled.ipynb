{
 "cells": [
  {
   "cell_type": "raw",
   "metadata": {},
   "source": [
    "sm_m = pd.DataFrame()\n",
    "for year in social_media_theme_df.year_s.unique():\n",
    "    temp = social_media_theme_df[social_media_theme_df.year_s == year]\n",
    "    for month in sorted(social_media_theme_df.month_s.unique()):\n",
    "        sm_m[\"avg_post\"+\"-\"+ str(month)+\"-\"+ str(year)] = round(temp[temp.month_s==month] \\\n",
    "                                          .groupby('claim_name')['total_post'].mean(),2)\n",
    "sm_m = sm_m.dropna(axis=1,how='all')\n",
    "\n",
    "gs_m = pd.DataFrame()\n",
    "for year in google_theme_df.year_new.unique():\n",
    "    temp = google_theme_df[google_theme_df.year_new == year]\n",
    "    for month in sorted(google_theme_df.month_g.unique()):\n",
    "        gs_m[\"avg_search\"+\"-\"+ str(month)+\"-\"+ str(year)] = round(temp[temp.month_g==month] \\\n",
    "                                          .groupby('claim_name')['search_volume'].mean(),2)\n",
    "\n",
    "sal_m = pd.DataFrame()\n",
    "for year in sales_theme_df.year.unique():\n",
    "    temp = sales_theme_df[sales_theme_df.year == year]\n",
    "    for month in sorted(sales_theme_df.month.unique()):\n",
    "        sal_m[\"avg_sales\"+\"-\"+ str(month)+\"-\"+ str(year)] = round(temp[temp.month==month] \\\n",
    "                                          .groupby('claim_name')['sales_dollars_value'].mean(),2)"
   ]
  },
  {
   "cell_type": "raw",
   "metadata": {},
   "source": [
    "sm_m2 = pd.DataFrame()\n",
    "for month in sorted(social_media_theme_df.month_s.unique()):\n",
    "        sm_m2[\"avg_post\"+\"-\"+ str(month)+\"-\"] = social_media_theme_df[social_media_theme_df.month_s==month] \\\n",
    "                                          .groupby('claim_name')['total_post'].sum()\n",
    "        \n",
    "gs_m2 = pd.DataFrame()\n",
    "for month in sorted(google_theme_df.month_g.unique()):\n",
    "    gs_m2[\"avg_search\"+\"-\"+ str(month)] = google_theme_df[google_theme_df.month_g==month] \\\n",
    "                                          .groupby('claim_name')['search_volume'].sum()\n",
    "\n",
    "sal_m2 = pd.DataFrame()\n",
    "for month in sorted(sales_theme_df.month.unique()):\n",
    "    sal_m2[\"avg_sales\"+\"-\"+ str(month)] = sales_theme_df[sales_theme_df.month==month] \\\n",
    "                                          .groupby('claim_name')['sales_dollars_value'].sum()"
   ]
  },
  {
   "cell_type": "raw",
   "metadata": {},
   "source": []
  },
  {
   "cell_type": "raw",
   "metadata": {},
   "source": [
    "temp = manufacturer_theme_df.groupby(['vendor','claim_name']).agg({'product_id':'count'})\n",
    "g = temp['product_id'].groupby('vendor', group_keys=False)\n",
    "res = g.apply(lambda x: x.sort_values(ascending=False))\n",
    "\n",
    "report = res.reset_index().groupby('vendor').apply(lambda g: dict(zip(g['claim_name'],g['product_id'])))\n",
    "display_as_tabs([(x,report[x]) for x in report.keys()])"
   ]
  },
  {
   "cell_type": "markdown",
   "metadata": {},
   "source": [
    "- Number of unit sold in each theme by the vendors"
   ]
  },
  {
   "cell_type": "markdown",
   "metadata": {},
   "source": [
    "%%time\n",
    "\n",
    "# Third-party imports\n",
    "import os\n",
    "import os.path as op\n",
    "import pandas as pd\n",
    "import great_expectations as ge\n",
    "\n",
    "# Project imports\n",
    "from ta_lib.core.api import (\n",
    "    display_as_tabs, initialize_environment,setanalyse,\n",
    "    create_context, list_datasets, load_dataset, string_cleaning\n",
    ")\n",
    "import ta_lib.core.api as analysis\n",
    "\n",
    "# Import the eda API\n",
    "import ta_lib.eda.api as eda\n",
    "\n",
    "# Import the report API\n",
    "import ta_lib.reports.api as health\n",
    "\n",
    "# Initialization\n",
    "initialize_environment(debug=False, hide_warnings=True)"
   ]
  },
  {
   "cell_type": "code",
   "execution_count": null,
   "metadata": {},
   "outputs": [],
   "source": []
  },
  {
   "cell_type": "markdown",
   "metadata": {},
   "source": [
    "state = pd.read_csv('States.csv')\n",
    "wine = pd.read_csv('wine_store_model_data.csv')"
   ]
  },
  {
   "cell_type": "markdown",
   "metadata": {},
   "source": [
    "display_as_tabs([('state',state.shape),('wine',wine.shape)])"
   ]
  },
  {
   "cell_type": "code",
   "execution_count": null,
   "metadata": {},
   "outputs": [],
   "source": []
  }
 ],
 "metadata": {
  "kernelspec": {
   "display_name": "Python 3",
   "language": "python",
   "name": "python3"
  },
  "language_info": {
   "codemirror_mode": {
    "name": "ipython",
    "version": 3
   },
   "file_extension": ".py",
   "mimetype": "text/x-python",
   "name": "python",
   "nbconvert_exporter": "python",
   "pygments_lexer": "ipython3",
   "version": "3.8.10"
  }
 },
 "nbformat": 4,
 "nbformat_minor": 4
}
